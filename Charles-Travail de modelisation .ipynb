{
 "cells": [
  {
   "cell_type": "markdown",
   "id": "52b3cf61-23be-4d29-8574-328db47bda1b",
   "metadata": {
    "tags": []
   },
   "source": [
    "$\\Huge{\\text{Modelisation du cours du BITCOIN}}$\n",
    "\n",
    "<hr><b>\n",
    "<hr><b>\n",
    "\n",
    "$\\huge{\\text{Groupe KAGLAN KHABITIE KHENESSI}}$"
   ]
  },
  {
   "cell_type": "markdown",
   "id": "80788e1c-747b-4664-aaf0-4b60f5194f38",
   "metadata": {
    "tags": []
   },
   "source": [
    "## Imports and set up"
   ]
  },
  {
   "cell_type": "markdown",
   "id": "00165d92-19ab-4a68-bd4b-76e872b33e80",
   "metadata": {},
   "source": [
    "##### Remarque : Le module arch est appellé dans les imports. Il faudra l'installer avec la commande !pip install arch "
   ]
  },
  {
   "cell_type": "code",
   "execution_count": 2,
   "id": "9e3641bc-3418-41b0-bed9-542cf51231e1",
   "metadata": {
    "tags": []
   },
   "outputs": [],
   "source": [
    "import os\n",
    "import numpy as np\n",
    "import pandas as pd \n",
    "import seaborn as sns\n",
    "import matplotlib.pyplot as plt\n",
    "import scipy.stats as stats\n",
    "from matplotlib.collections import PolyCollection\n",
    "import statsmodels.api as sm\n",
    "import statsmodels.tsa.api as smt\n",
    "from arch.unitroot import ADF\n",
    "plt.rcParams['figure.figsize']=(10,8)\n",
    "plt.rc('axes', labelsize = 15)\n",
    "plt.rc('xtick', labelsize=14)\n",
    "plt.rc('ytick', labelsize=14)\n",
    "plt.style.use('seaborn-whitegrid')"
   ]
  },
  {
   "cell_type": "markdown",
   "id": "5bbe5406-51a6-4f98-b9a4-b59c319044f6",
   "metadata": {
    "tags": []
   },
   "source": [
    "# Data Exploration and Analysis"
   ]
  },
  {
   "cell_type": "markdown",
   "id": "6ec6c554-e0ae-4d19-923d-056edb3409e0",
   "metadata": {
    "tags": []
   },
   "source": [
    "### Cours de Cloture du BITCOIN sur 10 ans (du 23-12-2011 au 23-12-2021 )"
   ]
  },
  {
   "cell_type": "code",
   "execution_count": 3,
   "id": "7170f1c0-20e2-42ec-a714-90e870676b08",
   "metadata": {},
   "outputs": [
    {
     "name": "stdout",
     "output_type": "stream",
     "text": [
      "--2022-01-03 14:18:22--  https://minio.lab.sspcloud.fr/mawulikaglan/BTCEUR.txt\n",
      "Resolving minio.lab.sspcloud.fr (minio.lab.sspcloud.fr)... 192.168.253.151, 192.168.253.152\n",
      "Connecting to minio.lab.sspcloud.fr (minio.lab.sspcloud.fr)|192.168.253.151|:443... connected.\n",
      "HTTP request sent, awaiting response... 200 OK\n",
      "Length: 176263 (172K) [binary/octet-stream]\n",
      "Saving to: ‘BTCEUR.txt.1’\n",
      "\n",
      "BTCEUR.txt.1        100%[===================>] 172.13K  --.-KB/s    in 0.003s  \n",
      "\n",
      "2022-01-03 14:18:22 (61.6 MB/s) - ‘BTCEUR.txt.1’ saved [176263/176263]\n",
      "\n",
      " BTCEUR.txt\n",
      " BTCEUR.txt.1\n",
      "'Charles-Travail de modelisation .ipynb'\n",
      " DM_Figures\n",
      " Modelisation.ipynb\n",
      "'Notebook DataScience Project.ipynb'\n",
      "'Notebook DataScience Project - Webscrapping.ipynb'\n"
     ]
    }
   ],
   "source": [
    "!wget https://minio.lab.sspcloud.fr/mawulikaglan/BTCEUR.txt\n",
    "!ls"
   ]
  },
  {
   "cell_type": "markdown",
   "id": "7bbbb123-06f2-49e7-be31-79649d4ba604",
   "metadata": {
    "tags": []
   },
   "source": [
    "#### Importation des données :"
   ]
  },
  {
   "cell_type": "code",
   "execution_count": 4,
   "id": "8653b1ce-3b36-4628-a774-8e0213caac1c",
   "metadata": {},
   "outputs": [],
   "source": [
    "BTC = pd.read_csv('BTCEUR.txt', sep=\"\\t\", parse_dates=[0], index_col=0)"
   ]
  },
  {
   "cell_type": "code",
   "execution_count": 5,
   "id": "087f3630-1dd4-410d-94ad-d53b79e7d13f",
   "metadata": {},
   "outputs": [
    {
     "name": "stdout",
     "output_type": "stream",
     "text": [
      "ouv\n",
      "haut\n",
      "bas\n",
      "clot\n",
      "vol\n",
      "devise\n",
      "Unnamed: 7\n"
     ]
    }
   ],
   "source": [
    "for x in BTC:\n",
    "    print(x)"
   ]
  },
  {
   "cell_type": "code",
   "execution_count": null,
   "id": "184980fc-625c-4196-ad7a-a51a68d5c4b6",
   "metadata": {},
   "outputs": [],
   "source": []
  }
 ],
 "metadata": {
  "kernelspec": {
   "display_name": "Python 3 (ipykernel)",
   "language": "python",
   "name": "python3"
  },
  "language_info": {
   "codemirror_mode": {
    "name": "ipython",
    "version": 3
   },
   "file_extension": ".py",
   "mimetype": "text/x-python",
   "name": "python",
   "nbconvert_exporter": "python",
   "pygments_lexer": "ipython3",
   "version": "3.9.7"
  },
  "toc-autonumbering": true
 },
 "nbformat": 4,
 "nbformat_minor": 5
}
